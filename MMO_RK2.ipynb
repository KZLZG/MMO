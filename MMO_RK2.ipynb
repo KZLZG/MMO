{
  "nbformat": 4,
  "nbformat_minor": 0,
  "metadata": {
    "colab": {
      "provenance": []
    },
    "kernelspec": {
      "name": "python3",
      "display_name": "Python 3"
    },
    "language_info": {
      "name": "python"
    }
  },
  "cells": [
    {
      "cell_type": "markdown",
      "source": [
        "# Отчет по рубежному контролю №2\n",
        "\n",
        "    Ф.И.О.: Козлов Егор\n",
        "\n",
        "    Группа: ИУ5-22М\n",
        "\n",
        "    Тема: Методы обработки текстов. Решение задачи классификации текстов."
      ],
      "metadata": {
        "id": "78d7yogHYAWe"
      }
    },
    {
      "cell_type": "markdown",
      "source": [
        "## Шаг 1: Подготовка среды и загрузка данных\n",
        "\n",
        "Сначала установим необходимые библиотеки, загрузим датасет \"Natural Language Processing with Disaster Tweets\" с Kaggle и ознакомимся с данными."
      ],
      "metadata": {
        "id": "JaB5DovTZQI5"
      }
    },
    {
      "cell_type": "code",
      "source": [
        "# Установка Kaggle API\n",
        "!pip install kaggle\n",
        "\n",
        "# Импорт основных библиотек\n",
        "import pandas as pd\n",
        "import numpy as np\n",
        "from sklearn.model_selection import train_test_split\n",
        "from sklearn.feature_extraction.text import CountVectorizer, TfidfVectorizer\n",
        "from sklearn.ensemble import RandomForestClassifier\n",
        "from sklearn.linear_model import LogisticRegression\n",
        "from sklearn.metrics import accuracy_score, classification_report, confusion_matrix\n",
        "import seaborn as sns\n",
        "import matplotlib.pyplot as plt"
      ],
      "metadata": {
        "id": "fPVTrZ4datfp"
      },
      "execution_count": null,
      "outputs": []
    },
    {
      "cell_type": "code",
      "source": [
        "# Настройка для загрузки API ключа Kaggle\n",
        "from google.colab import files\n",
        "print('Пожалуйста, загрузите ваш файл kaggle.json')\n",
        "files.upload()\n",
        "\n",
        "!mkdir -p ~/.kaggle\n",
        "!cp kaggle.json ~/.kaggle/\n",
        "!chmod 600 ~/.kaggle/kaggle.json"
      ],
      "metadata": {
        "id": "lNY_u18aaxZp"
      },
      "execution_count": null,
      "outputs": []
    },
    {
      "cell_type": "code",
      "execution_count": 4,
      "metadata": {
        "id": "SOGrzVwNXXh2",
        "colab": {
          "base_uri": "https://localhost:8080/"
        },
        "outputId": "6a43460f-c9ba-4df0-ee00-efbc5fb0bdd0"
      },
      "outputs": [
        {
          "output_type": "stream",
          "name": "stdout",
          "text": [
            "Downloading nlp-getting-started.zip to /content\n",
            "\r  0% 0.00/593k [00:00<?, ?B/s]\n",
            "\r100% 593k/593k [00:00<00:00, 723MB/s]\n",
            "Archive:  nlp-getting-started.zip\n",
            "  inflating: sample_submission.csv   \n",
            "  inflating: test.csv                \n",
            "  inflating: train.csv               \n"
          ]
        }
      ],
      "source": [
        "# Загрузка датасета\n",
        "!kaggle competitions download -c nlp-getting-started\n",
        "\n",
        "# Распаковка архивов\n",
        "!unzip nlp-getting-started.zip"
      ]
    },
    {
      "cell_type": "code",
      "source": [
        "# Загрузка данных в DataFrame\n",
        "df_train = pd.read_csv('train.csv')\n",
        "\n",
        "# Вывод основной информации\n",
        "print(\"Размер обучающего набора данных:\", df_train.shape)\n",
        "print(\"\\nПервые 5 строк данных:\")\n",
        "print(df_train.head())\n",
        "\n",
        "print(\"\\nИнформация о данных:\")\n",
        "df_train.info()\n",
        "\n",
        "print(\"\\nРаспределение классов (0 - не катастрофа, 1 - катастрофа):\")\n",
        "print(df_train['target'].value_counts())"
      ],
      "metadata": {
        "colab": {
          "base_uri": "https://localhost:8080/"
        },
        "id": "TtrHayZdZYxN",
        "outputId": "146c5456-ce66-4ef7-d803-7bc57b5b280c"
      },
      "execution_count": 5,
      "outputs": [
        {
          "output_type": "stream",
          "name": "stdout",
          "text": [
            "Размер обучающего набора данных: (7613, 5)\n",
            "\n",
            "Первые 5 строк данных:\n",
            "   id keyword location                                               text  \\\n",
            "0   1     NaN      NaN  Our Deeds are the Reason of this #earthquake M...   \n",
            "1   4     NaN      NaN             Forest fire near La Ronge Sask. Canada   \n",
            "2   5     NaN      NaN  All residents asked to 'shelter in place' are ...   \n",
            "3   6     NaN      NaN  13,000 people receive #wildfires evacuation or...   \n",
            "4   7     NaN      NaN  Just got sent this photo from Ruby #Alaska as ...   \n",
            "\n",
            "   target  \n",
            "0       1  \n",
            "1       1  \n",
            "2       1  \n",
            "3       1  \n",
            "4       1  \n",
            "\n",
            "Информация о данных:\n",
            "<class 'pandas.core.frame.DataFrame'>\n",
            "RangeIndex: 7613 entries, 0 to 7612\n",
            "Data columns (total 5 columns):\n",
            " #   Column    Non-Null Count  Dtype \n",
            "---  ------    --------------  ----- \n",
            " 0   id        7613 non-null   int64 \n",
            " 1   keyword   7552 non-null   object\n",
            " 2   location  5080 non-null   object\n",
            " 3   text      7613 non-null   object\n",
            " 4   target    7613 non-null   int64 \n",
            "dtypes: int64(2), object(3)\n",
            "memory usage: 297.5+ KB\n",
            "\n",
            "Распределение классов (0 - не катастрофа, 1 - катастрофа):\n",
            "target\n",
            "0    4342\n",
            "1    3271\n",
            "Name: count, dtype: int64\n"
          ]
        }
      ]
    },
    {
      "cell_type": "markdown",
      "source": [
        "## Шаг 2: Подготовка данных для обучения\n",
        "\n",
        "Разделим данные на признаки (текст твита) и целевую переменную, а затем разобьем их на обучающую и тестовую выборки для корректной оценки моделей."
      ],
      "metadata": {
        "id": "2wX-MfSSZawE"
      }
    },
    {
      "cell_type": "code",
      "source": [
        "# Определение признаков (X) и целевой переменной (y)\n",
        "X = df_train['text']\n",
        "y = df_train['target']\n",
        "\n",
        "# Разделение данных на обучающую и тестовую выборки (80% на обучение, 20% на тест)\n",
        "X_train, X_test, y_train, y_test = train_test_split(X, y, test_size=0.2, random_state=42, stratify=y)\n",
        "\n",
        "print(f\"Размер обучающей выборки: {X_train.shape[0]} записей\")\n",
        "print(f\"Размер тестовой выборки: {X_test.shape[0]} записей\")"
      ],
      "metadata": {
        "colab": {
          "base_uri": "https://localhost:8080/"
        },
        "id": "w8SJyAsFZiFO",
        "outputId": "3efcca29-f2ed-4a9b-e545-2bd130165146"
      },
      "execution_count": 6,
      "outputs": [
        {
          "output_type": "stream",
          "name": "stdout",
          "text": [
            "Размер обучающей выборки: 6090 записей\n",
            "Размер тестовой выборки: 1523 записей\n"
          ]
        }
      ]
    },
    {
      "cell_type": "markdown",
      "source": [
        "## Шаг 3: Эксперимент с CountVectorizer\n",
        "\n",
        "На этом шаге мы преобразуем текстовые данные в числовые векторы с помощью CountVectorizer и обучим на них два классификатора."
      ],
      "metadata": {
        "id": "ghnwNyuDaDDV"
      }
    },
    {
      "cell_type": "code",
      "source": [
        "# Инициализация и настройка CountVectorizer\n",
        "count_vectorizer = CountVectorizer(stop_words='english', max_df=0.9, min_df=2)\n",
        "\n",
        "# Обучение векторизатора на обучающих данных и преобразование выборок\n",
        "X_train_count = count_vectorizer.fit_transform(X_train)\n",
        "X_test_count = count_vectorizer.transform(X_test)\n",
        "\n",
        "print(f\"Размер словаря (количество уникальных токенов): {len(count_vectorizer.get_feature_names_out())}\")\n",
        "print(f\"Форма матрицы для обучающей выборки: {X_train_count.shape}\")"
      ],
      "metadata": {
        "colab": {
          "base_uri": "https://localhost:8080/"
        },
        "id": "r5AWN0KoaE_D",
        "outputId": "f0a2d115-2539-453c-de1f-1a9fe854ebf4"
      },
      "execution_count": 7,
      "outputs": [
        {
          "output_type": "stream",
          "name": "stdout",
          "text": [
            "Размер словаря (количество уникальных токенов): 5467\n",
            "Форма матрицы для обучающей выборки: (6090, 5467)\n"
          ]
        }
      ]
    },
    {
      "cell_type": "code",
      "source": [
        "# Инициализация и обучение модели\n",
        "rf_clf_count = RandomForestClassifier(n_estimators=100, random_state=42, n_jobs=-1)\n",
        "rf_clf_count.fit(X_train_count, y_train)\n",
        "\n",
        "# Предсказание на тестовой выборке\n",
        "y_pred_rf_count = rf_clf_count.predict(X_test_count)\n",
        "\n",
        "# Оценка качества\n",
        "print(\"Результаты для RandomForestClassifier + CountVectorizer\")\n",
        "print(f\"Accuracy: {accuracy_score(y_test, y_pred_rf_count):.4f}\")\n",
        "print(\"\\nClassification Report:\")\n",
        "print(classification_report(y_test, y_pred_rf_count))"
      ],
      "metadata": {
        "colab": {
          "base_uri": "https://localhost:8080/"
        },
        "id": "qL04P0VZaYJ_",
        "outputId": "63d1c0b8-fa0d-4c21-b695-d9d6cd3b5cfb"
      },
      "execution_count": 8,
      "outputs": [
        {
          "output_type": "stream",
          "name": "stdout",
          "text": [
            "Результаты для RandomForestClassifier + CountVectorizer\n",
            "Accuracy: 0.7879\n",
            "\n",
            "Classification Report:\n",
            "              precision    recall  f1-score   support\n",
            "\n",
            "           0       0.78      0.88      0.83       869\n",
            "           1       0.81      0.67      0.73       654\n",
            "\n",
            "    accuracy                           0.79      1523\n",
            "   macro avg       0.79      0.77      0.78      1523\n",
            "weighted avg       0.79      0.79      0.78      1523\n",
            "\n"
          ]
        }
      ]
    },
    {
      "cell_type": "code",
      "source": [
        "# Инициализация и обучение модели\n",
        "lr_clf_count = LogisticRegression(solver='liblinear', random_state=42)\n",
        "lr_clf_count.fit(X_train_count, y_train)\n",
        "\n",
        "# Предсказание на тестовой выборке\n",
        "y_pred_lr_count = lr_clf_count.predict(X_test_count)\n",
        "\n",
        "# Оценка качества\n",
        "print(\"Результаты для LogisticRegression + CountVectorizer\")\n",
        "print(f\"Accuracy: {accuracy_score(y_test, y_pred_lr_count):.4f}\")\n",
        "print(\"\\nClassification Report:\")\n",
        "print(classification_report(y_test, y_pred_lr_count))"
      ],
      "metadata": {
        "colab": {
          "base_uri": "https://localhost:8080/"
        },
        "id": "zBDQV8RyaZyO",
        "outputId": "90c7c2b5-865c-42ce-baf0-c52f8a87a053"
      },
      "execution_count": 9,
      "outputs": [
        {
          "output_type": "stream",
          "name": "stdout",
          "text": [
            "Результаты для LogisticRegression + CountVectorizer\n",
            "Accuracy: 0.8076\n",
            "\n",
            "Classification Report:\n",
            "              precision    recall  f1-score   support\n",
            "\n",
            "           0       0.81      0.87      0.84       869\n",
            "           1       0.81      0.73      0.76       654\n",
            "\n",
            "    accuracy                           0.81      1523\n",
            "   macro avg       0.81      0.80      0.80      1523\n",
            "weighted avg       0.81      0.81      0.81      1523\n",
            "\n"
          ]
        }
      ]
    },
    {
      "cell_type": "markdown",
      "source": [
        "## Шаг 4: Эксперимент с TfidfVectorizer\n",
        "\n",
        "Теперь повторим тот же процесс, но с использованием TfidfVectorizer, который учитывает не только частоту слов, но и их важность."
      ],
      "metadata": {
        "id": "pOhUK74KabmT"
      }
    },
    {
      "cell_type": "code",
      "source": [
        "# Инициализация и настройка TfidfVectorizer\n",
        "tfidf_vectorizer = TfidfVectorizer(stop_words='english', max_df=0.9, min_df=2)\n",
        "\n",
        "# Обучение векторизатора на обучающих данных и преобразование выборок\n",
        "X_train_tfidf = tfidf_vectorizer.fit_transform(X_train)\n",
        "X_test_tfidf = tfidf_vectorizer.transform(X_test)\n",
        "\n",
        "print(f\"Размер словаря (количество уникальных токенов): {len(tfidf_vectorizer.get_feature_names_out())}\")\n",
        "print(f\"Форма матрицы для обучающей выборки: {X_train_tfidf.shape}\")"
      ],
      "metadata": {
        "colab": {
          "base_uri": "https://localhost:8080/"
        },
        "id": "Zwtm40aPaec4",
        "outputId": "3c916afd-51f7-4dc2-da76-93f3c59917bb"
      },
      "execution_count": 10,
      "outputs": [
        {
          "output_type": "stream",
          "name": "stdout",
          "text": [
            "Размер словаря (количество уникальных токенов): 5467\n",
            "Форма матрицы для обучающей выборки: (6090, 5467)\n"
          ]
        }
      ]
    },
    {
      "cell_type": "code",
      "source": [
        "# Инициализация и обучение модели\n",
        "rf_clf_tfidf = RandomForestClassifier(n_estimators=100, random_state=42, n_jobs=-1)\n",
        "rf_clf_tfidf.fit(X_train_tfidf, y_train)\n",
        "\n",
        "# Предсказание на тестовой выборке\n",
        "y_pred_rf_tfidf = rf_clf_tfidf.predict(X_test_tfidf)\n",
        "\n",
        "# Оценка качества\n",
        "print(\"Результаты для RandomForestClassifier + TfidfVectorizer\")\n",
        "print(f\"Accuracy: {accuracy_score(y_test, y_pred_rf_tfidf):.4f}\")\n",
        "print(\"\\nClassification Report:\")\n",
        "print(classification_report(y_test, y_pred_rf_tfidf))"
      ],
      "metadata": {
        "colab": {
          "base_uri": "https://localhost:8080/"
        },
        "id": "ppmUiAtcafxQ",
        "outputId": "aa8daba7-aba5-4e7b-9353-ec56c259bf9a"
      },
      "execution_count": 11,
      "outputs": [
        {
          "output_type": "stream",
          "name": "stdout",
          "text": [
            "Результаты для RandomForestClassifier + TfidfVectorizer\n",
            "Accuracy: 0.7925\n",
            "\n",
            "Classification Report:\n",
            "              precision    recall  f1-score   support\n",
            "\n",
            "           0       0.78      0.89      0.83       869\n",
            "           1       0.82      0.67      0.73       654\n",
            "\n",
            "    accuracy                           0.79      1523\n",
            "   macro avg       0.80      0.78      0.78      1523\n",
            "weighted avg       0.80      0.79      0.79      1523\n",
            "\n"
          ]
        }
      ]
    },
    {
      "cell_type": "code",
      "source": [
        "# Инициализация и обучение модели\n",
        "lr_clf_tfidf = LogisticRegression(solver='liblinear', random_state=42)\n",
        "lr_clf_tfidf.fit(X_train_tfidf, y_train)\n",
        "\n",
        "# Предсказание на тестовой выборке\n",
        "y_pred_lr_tfidf = lr_clf_tfidf.predict(X_test_tfidf)\n",
        "\n",
        "# Оценка качества\n",
        "print(\"Результаты для LogisticRegression + TfidfVectorizer\")\n",
        "print(f\"Accuracy: {accuracy_score(y_test, y_pred_lr_tfidf):.4f}\")\n",
        "print(\"\\nClassification Report:\")\n",
        "print(classification_report(y_test, y_pred_lr_tfidf))"
      ],
      "metadata": {
        "colab": {
          "base_uri": "https://localhost:8080/"
        },
        "id": "eWi_o8BlahrC",
        "outputId": "3cae21cf-d202-4d7c-c42e-33fbecd0b8ed"
      },
      "execution_count": 12,
      "outputs": [
        {
          "output_type": "stream",
          "name": "stdout",
          "text": [
            "Результаты для LogisticRegression + TfidfVectorizer\n",
            "Accuracy: 0.8148\n",
            "\n",
            "Classification Report:\n",
            "              precision    recall  f1-score   support\n",
            "\n",
            "           0       0.80      0.90      0.85       869\n",
            "           1       0.84      0.70      0.77       654\n",
            "\n",
            "    accuracy                           0.81      1523\n",
            "   macro avg       0.82      0.80      0.81      1523\n",
            "weighted avg       0.82      0.81      0.81      1523\n",
            "\n"
          ]
        }
      ]
    },
    {
      "cell_type": "markdown",
      "source": [
        "## Шаг 5: Сводка результатов и выводы\n",
        "\n",
        "Сведем все полученные метрики в одну таблицу для удобного сравнения. Будем сравнивать по Accuracy и F1-score (macro avg), так как F1-score является хорошей сбалансированной метрикой."
      ],
      "metadata": {
        "id": "QlN56Qg1aiFH"
      }
    },
    {
      "cell_type": "code",
      "source": [
        "# Создание DataFrame с результатами\n",
        "results_data = {\n",
        "    'Vectorizer': ['CountVectorizer', 'CountVectorizer', 'TfidfVectorizer', 'TfidfVectorizer'],\n",
        "    'Classifier': ['RandomForest', 'LogisticRegression', 'RandomForest', 'LogisticRegression'],\n",
        "    'Accuracy': [\n",
        "        accuracy_score(y_test, y_pred_rf_count),\n",
        "        accuracy_score(y_test, y_pred_lr_count),\n",
        "        accuracy_score(y_test, y_pred_rf_tfidf),\n",
        "        accuracy_score(y_test, y_pred_lr_tfidf)\n",
        "    ],\n",
        "    'F1-score (macro)': [\n",
        "        classification_report(y_test, y_pred_rf_count, output_dict=True)['macro avg']['f1-score'],\n",
        "        classification_report(y_test, y_pred_lr_count, output_dict=True)['macro avg']['f1-score'],\n",
        "        classification_report(y_test, y_pred_rf_tfidf, output_dict=True)['macro avg']['f1-score'],\n",
        "        classification_report(y_test, y_pred_lr_tfidf, output_dict=True)['macro avg']['f1-score']\n",
        "    ]\n",
        "}\n",
        "\n",
        "results_df = pd.DataFrame(results_data)\n",
        "results_df = results_df.round(4) # Округляем для наглядности\n",
        "\n",
        "print(\"Сводная таблица результатов:\")\n",
        "print(results_df)"
      ],
      "metadata": {
        "colab": {
          "base_uri": "https://localhost:8080/"
        },
        "id": "nSx8x5Poak8k",
        "outputId": "f9830ca7-b54e-42a6-f20a-453aa62aadf6"
      },
      "execution_count": 13,
      "outputs": [
        {
          "output_type": "stream",
          "name": "stdout",
          "text": [
            "Сводная таблица результатов:\n",
            "        Vectorizer          Classifier  Accuracy  F1-score (macro)\n",
            "0  CountVectorizer        RandomForest    0.7879            0.7775\n",
            "1  CountVectorizer  LogisticRegression    0.8076            0.8009\n",
            "2  TfidfVectorizer        RandomForest    0.7925            0.7818\n",
            "3  TfidfVectorizer  LogisticRegression    0.8148            0.8063\n"
          ]
        }
      ]
    },
    {
      "cell_type": "markdown",
      "source": [
        "Вывод:\n",
        "\n",
        "На основе полученных результатов можно сделать следующие заключения:\n",
        "\n",
        "    Сравнение векторизаторов: В целом, TfidfVectorizer показал себя немного лучше, чем CountVectorizer для обеих моделей. Это ожидаемо, так как TF-IDF не просто считает слова, а взвешивает их по важности, что часто дает прирост в качестве на задачах классификации текстов.\n",
        "\n",
        "    Сравнение классификаторов: Логистическая регрессия (LogisticRegression) стабильно превзошла случайный лес (RandomForestClassifier) на обоих типах векторов. Линейные модели, такие как логистическая регрессия, часто показывают очень сильные результаты на разреженных данных, которые получаются после векторизации текстов.\n",
        "\n",
        "    Лучшая комбинация: TfidfVectorizer в паре с LogisticRegression показала наилучшее качество классификации. Эта комбинация достигла самой высокой точности (Accuracy = 0.8148) и лучшего значения F1-score (F1-score (macro) = 0.8063). Это говорит о том, что данная модель лучше всего обобщает данные и делает наиболее сбалансированные предсказания для обоих классов."
      ],
      "metadata": {
        "id": "Cwu9RScSanhA"
      }
    }
  ]
}