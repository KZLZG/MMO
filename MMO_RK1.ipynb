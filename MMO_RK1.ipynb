{
  "nbformat": 4,
  "nbformat_minor": 0,
  "metadata": {
    "colab": {
      "provenance": []
    },
    "kernelspec": {
      "name": "python3",
      "display_name": "Python 3"
    },
    "language_info": {
      "name": "python"
    }
  },
  "cells": [
    {
      "cell_type": "markdown",
      "source": [
        "### **Задание**\n",
        "\n",
        "*   **Группа:** ИУ5-22М\n",
        "*   **Вариант:** 7\n",
        "*   **Задачи по варианту:**\n",
        "    *   Задача №7: Устранение пропусков для числового признака с использованием метода заполнения **медианой**.\n",
        "    *   Задача №27: Обнаружение и **замена** выбросов (на основе 5% и 95% квантилей) для числового признака.\n",
        "*   **Дополнительное требование для группы ИУ5-22М:** Построить **гистограмму** для произвольной колонки данных.\n",
        "*   **Набор данных:** Я выберу набор данных \"Pima Indians Diabetes Database\" с Kaggle. Он хорошо подходит, так как содержит числовые признаки, и в нем есть значения (0), которые по смыслу являются пропусками, что делает задачу более реалистичной.\n",
        "\n",
        "---\n",
        "\n",
        "### **Отчет по рубежному контролю №1**\n",
        "\n",
        "*   **Ф.И.О.:** *Козлов Егор*\n",
        "*   **Группа:** ИУ5-22М\n",
        "*   **Вариант:** 7\n",
        "\n",
        "### **Шаг 1: Подготовка и загрузка данных**\n",
        "\n",
        "Сначала установим необходимые библиотеки, загрузим данные с Kaggle и посмотрим на их общую структуру. Для использования Kaggle API в Colab вам потребуется загрузить свой файл `kaggle.json`.\n",
        "\n"
      ],
      "metadata": {
        "id": "jAhmAAeIPpJx"
      }
    },
    {
      "cell_type": "code",
      "execution_count": 2,
      "metadata": {
        "colab": {
          "base_uri": "https://localhost:8080/",
          "height": 485
        },
        "id": "HUqHIaPEMu0w",
        "outputId": "8300a903-2db5-4bf4-947f-5615250eb956"
      },
      "outputs": [
        {
          "output_type": "stream",
          "name": "stdout",
          "text": [
            "Requirement already satisfied: kaggle in /usr/local/lib/python3.11/dist-packages (1.7.4.5)\n",
            "Requirement already satisfied: bleach in /usr/local/lib/python3.11/dist-packages (from kaggle) (6.2.0)\n",
            "Requirement already satisfied: certifi>=14.05.14 in /usr/local/lib/python3.11/dist-packages (from kaggle) (2025.4.26)\n",
            "Requirement already satisfied: charset-normalizer in /usr/local/lib/python3.11/dist-packages (from kaggle) (3.4.2)\n",
            "Requirement already satisfied: idna in /usr/local/lib/python3.11/dist-packages (from kaggle) (3.10)\n",
            "Requirement already satisfied: protobuf in /usr/local/lib/python3.11/dist-packages (from kaggle) (5.29.5)\n",
            "Requirement already satisfied: python-dateutil>=2.5.3 in /usr/local/lib/python3.11/dist-packages (from kaggle) (2.9.0.post0)\n",
            "Requirement already satisfied: python-slugify in /usr/local/lib/python3.11/dist-packages (from kaggle) (8.0.4)\n",
            "Requirement already satisfied: requests in /usr/local/lib/python3.11/dist-packages (from kaggle) (2.32.3)\n",
            "Requirement already satisfied: setuptools>=21.0.0 in /usr/local/lib/python3.11/dist-packages (from kaggle) (75.2.0)\n",
            "Requirement already satisfied: six>=1.10 in /usr/local/lib/python3.11/dist-packages (from kaggle) (1.17.0)\n",
            "Requirement already satisfied: text-unidecode in /usr/local/lib/python3.11/dist-packages (from kaggle) (1.3)\n",
            "Requirement already satisfied: tqdm in /usr/local/lib/python3.11/dist-packages (from kaggle) (4.67.1)\n",
            "Requirement already satisfied: urllib3>=1.15.1 in /usr/local/lib/python3.11/dist-packages (from kaggle) (2.4.0)\n",
            "Requirement already satisfied: webencodings in /usr/local/lib/python3.11/dist-packages (from kaggle) (0.5.1)\n",
            "Пожалуйста, загрузите ваш файл kaggle.json\n"
          ]
        },
        {
          "output_type": "display_data",
          "data": {
            "text/plain": [
              "<IPython.core.display.HTML object>"
            ],
            "text/html": [
              "\n",
              "     <input type=\"file\" id=\"files-6cf57b8e-71f4-4c01-a205-0ca36cca1757\" name=\"files[]\" multiple disabled\n",
              "        style=\"border:none\" />\n",
              "     <output id=\"result-6cf57b8e-71f4-4c01-a205-0ca36cca1757\">\n",
              "      Upload widget is only available when the cell has been executed in the\n",
              "      current browser session. Please rerun this cell to enable.\n",
              "      </output>\n",
              "      <script>// Copyright 2017 Google LLC\n",
              "//\n",
              "// Licensed under the Apache License, Version 2.0 (the \"License\");\n",
              "// you may not use this file except in compliance with the License.\n",
              "// You may obtain a copy of the License at\n",
              "//\n",
              "//      http://www.apache.org/licenses/LICENSE-2.0\n",
              "//\n",
              "// Unless required by applicable law or agreed to in writing, software\n",
              "// distributed under the License is distributed on an \"AS IS\" BASIS,\n",
              "// WITHOUT WARRANTIES OR CONDITIONS OF ANY KIND, either express or implied.\n",
              "// See the License for the specific language governing permissions and\n",
              "// limitations under the License.\n",
              "\n",
              "/**\n",
              " * @fileoverview Helpers for google.colab Python module.\n",
              " */\n",
              "(function(scope) {\n",
              "function span(text, styleAttributes = {}) {\n",
              "  const element = document.createElement('span');\n",
              "  element.textContent = text;\n",
              "  for (const key of Object.keys(styleAttributes)) {\n",
              "    element.style[key] = styleAttributes[key];\n",
              "  }\n",
              "  return element;\n",
              "}\n",
              "\n",
              "// Max number of bytes which will be uploaded at a time.\n",
              "const MAX_PAYLOAD_SIZE = 100 * 1024;\n",
              "\n",
              "function _uploadFiles(inputId, outputId) {\n",
              "  const steps = uploadFilesStep(inputId, outputId);\n",
              "  const outputElement = document.getElementById(outputId);\n",
              "  // Cache steps on the outputElement to make it available for the next call\n",
              "  // to uploadFilesContinue from Python.\n",
              "  outputElement.steps = steps;\n",
              "\n",
              "  return _uploadFilesContinue(outputId);\n",
              "}\n",
              "\n",
              "// This is roughly an async generator (not supported in the browser yet),\n",
              "// where there are multiple asynchronous steps and the Python side is going\n",
              "// to poll for completion of each step.\n",
              "// This uses a Promise to block the python side on completion of each step,\n",
              "// then passes the result of the previous step as the input to the next step.\n",
              "function _uploadFilesContinue(outputId) {\n",
              "  const outputElement = document.getElementById(outputId);\n",
              "  const steps = outputElement.steps;\n",
              "\n",
              "  const next = steps.next(outputElement.lastPromiseValue);\n",
              "  return Promise.resolve(next.value.promise).then((value) => {\n",
              "    // Cache the last promise value to make it available to the next\n",
              "    // step of the generator.\n",
              "    outputElement.lastPromiseValue = value;\n",
              "    return next.value.response;\n",
              "  });\n",
              "}\n",
              "\n",
              "/**\n",
              " * Generator function which is called between each async step of the upload\n",
              " * process.\n",
              " * @param {string} inputId Element ID of the input file picker element.\n",
              " * @param {string} outputId Element ID of the output display.\n",
              " * @return {!Iterable<!Object>} Iterable of next steps.\n",
              " */\n",
              "function* uploadFilesStep(inputId, outputId) {\n",
              "  const inputElement = document.getElementById(inputId);\n",
              "  inputElement.disabled = false;\n",
              "\n",
              "  const outputElement = document.getElementById(outputId);\n",
              "  outputElement.innerHTML = '';\n",
              "\n",
              "  const pickedPromise = new Promise((resolve) => {\n",
              "    inputElement.addEventListener('change', (e) => {\n",
              "      resolve(e.target.files);\n",
              "    });\n",
              "  });\n",
              "\n",
              "  const cancel = document.createElement('button');\n",
              "  inputElement.parentElement.appendChild(cancel);\n",
              "  cancel.textContent = 'Cancel upload';\n",
              "  const cancelPromise = new Promise((resolve) => {\n",
              "    cancel.onclick = () => {\n",
              "      resolve(null);\n",
              "    };\n",
              "  });\n",
              "\n",
              "  // Wait for the user to pick the files.\n",
              "  const files = yield {\n",
              "    promise: Promise.race([pickedPromise, cancelPromise]),\n",
              "    response: {\n",
              "      action: 'starting',\n",
              "    }\n",
              "  };\n",
              "\n",
              "  cancel.remove();\n",
              "\n",
              "  // Disable the input element since further picks are not allowed.\n",
              "  inputElement.disabled = true;\n",
              "\n",
              "  if (!files) {\n",
              "    return {\n",
              "      response: {\n",
              "        action: 'complete',\n",
              "      }\n",
              "    };\n",
              "  }\n",
              "\n",
              "  for (const file of files) {\n",
              "    const li = document.createElement('li');\n",
              "    li.append(span(file.name, {fontWeight: 'bold'}));\n",
              "    li.append(span(\n",
              "        `(${file.type || 'n/a'}) - ${file.size} bytes, ` +\n",
              "        `last modified: ${\n",
              "            file.lastModifiedDate ? file.lastModifiedDate.toLocaleDateString() :\n",
              "                                    'n/a'} - `));\n",
              "    const percent = span('0% done');\n",
              "    li.appendChild(percent);\n",
              "\n",
              "    outputElement.appendChild(li);\n",
              "\n",
              "    const fileDataPromise = new Promise((resolve) => {\n",
              "      const reader = new FileReader();\n",
              "      reader.onload = (e) => {\n",
              "        resolve(e.target.result);\n",
              "      };\n",
              "      reader.readAsArrayBuffer(file);\n",
              "    });\n",
              "    // Wait for the data to be ready.\n",
              "    let fileData = yield {\n",
              "      promise: fileDataPromise,\n",
              "      response: {\n",
              "        action: 'continue',\n",
              "      }\n",
              "    };\n",
              "\n",
              "    // Use a chunked sending to avoid message size limits. See b/62115660.\n",
              "    let position = 0;\n",
              "    do {\n",
              "      const length = Math.min(fileData.byteLength - position, MAX_PAYLOAD_SIZE);\n",
              "      const chunk = new Uint8Array(fileData, position, length);\n",
              "      position += length;\n",
              "\n",
              "      const base64 = btoa(String.fromCharCode.apply(null, chunk));\n",
              "      yield {\n",
              "        response: {\n",
              "          action: 'append',\n",
              "          file: file.name,\n",
              "          data: base64,\n",
              "        },\n",
              "      };\n",
              "\n",
              "      let percentDone = fileData.byteLength === 0 ?\n",
              "          100 :\n",
              "          Math.round((position / fileData.byteLength) * 100);\n",
              "      percent.textContent = `${percentDone}% done`;\n",
              "\n",
              "    } while (position < fileData.byteLength);\n",
              "  }\n",
              "\n",
              "  // All done.\n",
              "  yield {\n",
              "    response: {\n",
              "      action: 'complete',\n",
              "    }\n",
              "  };\n",
              "}\n",
              "\n",
              "scope.google = scope.google || {};\n",
              "scope.google.colab = scope.google.colab || {};\n",
              "scope.google.colab._files = {\n",
              "  _uploadFiles,\n",
              "  _uploadFilesContinue,\n",
              "};\n",
              "})(self);\n",
              "</script> "
            ]
          },
          "metadata": {}
        },
        {
          "output_type": "stream",
          "name": "stdout",
          "text": [
            "Saving kaggle.json to kaggle.json\n",
            "Dataset URL: https://www.kaggle.com/datasets/uciml/pima-indians-diabetes-database\n",
            "License(s): CC0-1.0\n",
            "Downloading pima-indians-diabetes-database.zip to /content\n",
            "  0% 0.00/8.91k [00:00<?, ?B/s]\n",
            "100% 8.91k/8.91k [00:00<00:00, 24.4MB/s]\n",
            "Archive:  pima-indians-diabetes-database.zip\n",
            "  inflating: diabetes.csv            \n"
          ]
        }
      ],
      "source": [
        "# Установка Kaggle API\n",
        "!pip install kaggle\n",
        "\n",
        "# Импорт библиотек\n",
        "import pandas as pd\n",
        "import numpy as np\n",
        "import seaborn as sns\n",
        "import matplotlib.pyplot as plt\n",
        "\n",
        "# Создание директории и загрузка kaggle.json\n",
        "# На этом шаге Colab попросит вас загрузить файл с вашего компьютера\n",
        "from google.colab import files\n",
        "print('Пожалуйста, загрузите ваш файл kaggle.json')\n",
        "files.upload()\n",
        "\n",
        "!mkdir -p ~/.kaggle\n",
        "!cp kaggle.json ~/.kaggle/\n",
        "!chmod 600 ~/.kaggle/kaggle.json\n",
        "\n",
        "# Загрузка датасета Pima Indians Diabetes\n",
        "!kaggle datasets download -d uciml/pima-indians-diabetes-database\n",
        "\n",
        "# Распаковка архива\n",
        "!unzip pima-indians-diabetes-database.zip"
      ]
    },
    {
      "cell_type": "code",
      "source": [
        "# Загрузка данных в DataFrame\n",
        "df = pd.read_csv('diabetes.csv')\n",
        "\n",
        "# Вывод первых 5 строк для ознакомления\n",
        "print(\"Первые 5 строк датасета:\")\n",
        "print(df.head())"
      ],
      "metadata": {
        "colab": {
          "base_uri": "https://localhost:8080/"
        },
        "id": "FG7tMuwDP5uM",
        "outputId": "0a69f9c8-9225-4158-891f-72260ac905c2"
      },
      "execution_count": 3,
      "outputs": [
        {
          "output_type": "stream",
          "name": "stdout",
          "text": [
            "Первые 5 строк датасета:\n",
            "   Pregnancies  Glucose  BloodPressure  SkinThickness  Insulin   BMI  \\\n",
            "0            6      148             72             35        0  33.6   \n",
            "1            1       85             66             29        0  26.6   \n",
            "2            8      183             64              0        0  23.3   \n",
            "3            1       89             66             23       94  28.1   \n",
            "4            0      137             40             35      168  43.1   \n",
            "\n",
            "   DiabetesPedigreeFunction  Age  Outcome  \n",
            "0                     0.627   50        1  \n",
            "1                     0.351   31        0  \n",
            "2                     0.672   32        1  \n",
            "3                     0.167   21        0  \n",
            "4                     2.288   33        1  \n"
          ]
        }
      ]
    },
    {
      "cell_type": "code",
      "source": [
        "# Просмотр общей информации и типов данных\n",
        "print(\"\\nОбщая информация о датасете:\")\n",
        "df.info()"
      ],
      "metadata": {
        "colab": {
          "base_uri": "https://localhost:8080/"
        },
        "id": "kUnpPCNUSLHh",
        "outputId": "d413be1f-ccd7-41b6-84af-580cfd900cab"
      },
      "execution_count": 4,
      "outputs": [
        {
          "output_type": "stream",
          "name": "stdout",
          "text": [
            "\n",
            "Общая информация о датасете:\n",
            "<class 'pandas.core.frame.DataFrame'>\n",
            "RangeIndex: 768 entries, 0 to 767\n",
            "Data columns (total 9 columns):\n",
            " #   Column                    Non-Null Count  Dtype  \n",
            "---  ------                    --------------  -----  \n",
            " 0   Pregnancies               768 non-null    int64  \n",
            " 1   Glucose                   768 non-null    int64  \n",
            " 2   BloodPressure             768 non-null    int64  \n",
            " 3   SkinThickness             768 non-null    int64  \n",
            " 4   Insulin                   768 non-null    int64  \n",
            " 5   BMI                       768 non-null    float64\n",
            " 6   DiabetesPedigreeFunction  768 non-null    float64\n",
            " 7   Age                       768 non-null    int64  \n",
            " 8   Outcome                   768 non-null    int64  \n",
            "dtypes: float64(2), int64(7)\n",
            "memory usage: 54.1 KB\n"
          ]
        }
      ]
    },
    {
      "cell_type": "markdown",
      "source": [
        "## Шаг 2: Предварительная обработка данных"
      ],
      "metadata": {
        "id": "kCP38srHSyfG"
      }
    },
    {
      "cell_type": "code",
      "source": [
        "# Список колонок, где 0 означает пропуск\n",
        "cols_with_zeros_as_nan = ['Glucose', 'BloodPressure', 'SkinThickness', 'Insulin', 'BMI']\n",
        "\n",
        "# Замена 0 на NaN\n",
        "for col in cols_with_zeros_as_nan:\n",
        "    df[col] = df[col].replace(0, np.nan)\n",
        "\n",
        "# Проверим количество пропусков после замены\n",
        "print(\"Количество пропусков в каждом столбце:\")\n",
        "print(df.isnull().sum())"
      ],
      "metadata": {
        "colab": {
          "base_uri": "https://localhost:8080/"
        },
        "id": "C_aA0SCqSxyq",
        "outputId": "76d1984d-de88-47cf-95cf-a4bda81c3f79"
      },
      "execution_count": 5,
      "outputs": [
        {
          "output_type": "stream",
          "name": "stdout",
          "text": [
            "Количество пропусков в каждом столбце:\n",
            "Pregnancies                   0\n",
            "Glucose                       5\n",
            "BloodPressure                35\n",
            "SkinThickness               227\n",
            "Insulin                     374\n",
            "BMI                          11\n",
            "DiabetesPedigreeFunction      0\n",
            "Age                           0\n",
            "Outcome                       0\n",
            "dtype: int64\n"
          ]
        }
      ]
    },
    {
      "cell_type": "markdown",
      "source": [
        "## Задача №7: Устранение пропусков методом заполнения медианой"
      ],
      "metadata": {
        "id": "AzJEL-XSS3Bo"
      }
    },
    {
      "cell_type": "code",
      "source": [
        "# Посмотрим на количество пропусков в столбце 'Insulin' до обработки\n",
        "print(f\"Количество пропусков в 'Insulin' до заполнения: {df['Insulin'].isnull().sum()}\")\n",
        "\n",
        "# Вычисляем медиану для столбца 'Insulin'\n",
        "median_insulin = df['Insulin'].median()\n",
        "print(f\"Медиана для столбца 'Insulin': {median_insulin}\")\n",
        "\n",
        "# Заполняем пропуски медианным значением\n",
        "df['Insulin'].fillna(median_insulin, inplace=True)\n",
        "\n",
        "# Проверяем, что пропуски были заполнены\n",
        "print(f\"Количество пропусков в 'Insulin' после заполнения: {df['Insulin'].isnull().sum()}\")"
      ],
      "metadata": {
        "colab": {
          "base_uri": "https://localhost:8080/"
        },
        "id": "ZpgigBYKS5CA",
        "outputId": "324d711b-3940-4575-8b03-ed2f63f9e26a"
      },
      "execution_count": 6,
      "outputs": [
        {
          "output_type": "stream",
          "name": "stdout",
          "text": [
            "Количество пропусков в 'Insulin' до заполнения: 374\n",
            "Медиана для столбца 'Insulin': 125.0\n",
            "Количество пропусков в 'Insulin' после заполнения: 0\n"
          ]
        },
        {
          "output_type": "stream",
          "name": "stderr",
          "text": [
            "<ipython-input-6-b596d1290561>:9: FutureWarning: A value is trying to be set on a copy of a DataFrame or Series through chained assignment using an inplace method.\n",
            "The behavior will change in pandas 3.0. This inplace method will never work because the intermediate object on which we are setting values always behaves as a copy.\n",
            "\n",
            "For example, when doing 'df[col].method(value, inplace=True)', try using 'df.method({col: value}, inplace=True)' or df[col] = df[col].method(value) instead, to perform the operation inplace on the original object.\n",
            "\n",
            "\n",
            "  df['Insulin'].fillna(median_insulin, inplace=True)\n"
          ]
        }
      ]
    },
    {
      "cell_type": "markdown",
      "source": [
        "## Задача №27: Обнаружение и замена выбросов на основе 5% и 95% квантилей"
      ],
      "metadata": {
        "id": "lpQ11b2kTVRK"
      }
    },
    {
      "cell_type": "code",
      "source": [
        "# Визуализируем распределение до обработки выбросов с помощью \"ящика с усами\"\n",
        "plt.figure(figsize=(10, 4))\n",
        "sns.boxplot(x=df['DiabetesPedigreeFunction'])\n",
        "plt.title('Распределение DiabetesPedigreeFunction до обработки выбросов')\n",
        "plt.xlabel('Diabetes Pedigree Function')\n",
        "plt.grid(True)\n",
        "plt.show()\n",
        "\n",
        "# Рассчитываем 5% и 95% квантили\n",
        "lower_bound = df['DiabetesPedigreeFunction'].quantile(0.05)\n",
        "upper_bound = df['DiabetesPedigreeFunction'].quantile(0.95)\n",
        "\n",
        "print(f\"Нижняя граница (5% квантиль): {lower_bound:.4f}\")\n",
        "print(f\"Верхняя граница (95% квантиль): {upper_bound:.4f}\")\n",
        "\n",
        "# Заменяем выбросы\n",
        "# Значения, которые меньше нижней границы, заменяем на нижнюю границу\n",
        "df['DiabetesPedigreeFunction'] = np.where(\n",
        "    df['DiabetesPedigreeFunction'] < lower_bound,\n",
        "    lower_bound,\n",
        "    df['DiabetesPedigreeFunction']\n",
        ")\n",
        "# Значения, которые больше верхней границы, заменяем на верхнюю границу\n",
        "df['DiabetesPedigreeFunction'] = np.where(\n",
        "    df['DiabetesPedigreeFunction'] > upper_bound,\n",
        "    upper_bound,\n",
        "    df['DiabetesPedigreeFunction']\n",
        ")\n",
        "\n",
        "\n",
        "# Визуализируем распределение после обработки выбросов\n",
        "plt.figure(figsize=(10, 4))\n",
        "sns.boxplot(x=df['DiabetesPedigreeFunction'])\n",
        "plt.title('Распределение DiabetesPedigreeFunction после обработки выбросов')\n",
        "plt.xlabel('Diabetes Pedigree Function')\n",
        "plt.grid(True)\n",
        "plt.show()\n",
        "\n",
        "print(\"\\nСтатистическое описание столбца после замены выбросов:\")\n",
        "print(df['DiabetesPedigreeFunction'].describe())"
      ],
      "metadata": {
        "colab": {
          "base_uri": "https://localhost:8080/",
          "height": 1000
        },
        "id": "aeR54OVpTS2p",
        "outputId": "a95a910f-e523-4a08-bdda-20994a10f873"
      },
      "execution_count": 7,
      "outputs": [
        {
          "output_type": "display_data",
          "data": {
            "text/plain": [
              "<Figure size 1000x400 with 1 Axes>"
            ],
            "image/png": "[encoded data removed]"
          },
          "metadata": {}
        },
        {
          "output_type": "stream",
          "name": "stdout",
          "text": [
            "Нижняя граница (5% квантиль): 0.1404\n",
            "Верхняя граница (95% квантиль): 1.1328\n"
          ]
        },
        {
          "output_type": "display_data",
          "data": {
            "text/plain": [
              "<Figure size 1000x400 with 1 Axes>"
            ],
            "image/png": "[encoded data removed]"
          },
          "metadata": {}
        },
        {
          "output_type": "stream",
          "name": "stdout",
          "text": [
            "\n",
            "Статистическое описание столбца после замены выбросов:\n",
            "count    768.000000\n",
            "mean       0.457207\n",
            "std        0.276766\n",
            "min        0.140350\n",
            "25%        0.243750\n",
            "50%        0.372500\n",
            "75%        0.626250\n",
            "max        1.132850\n",
            "Name: DiabetesPedigreeFunction, dtype: float64\n"
          ]
        }
      ]
    },
    {
      "cell_type": "markdown",
      "source": [
        "##  Дополнительное задание для группы ИУ5-22М: Построение гистограммы"
      ],
      "metadata": {
        "id": "4WtbyEsfTb7I"
      }
    },
    {
      "cell_type": "code",
      "source": [
        "# Построение гистограммы для столбца 'Age'\n",
        "plt.figure(figsize=(10, 6))\n",
        "sns.histplot(df['Age'], bins=20, kde=True) # kde=True добавляет сглаживающую кривую\n",
        "\n",
        "# Добавление заголовков и меток\n",
        "plt.title('Гистограмма распределения по возрасту (Age)')\n",
        "plt.xlabel('Возраст')\n",
        "plt.ylabel('Частота')\n",
        "plt.grid(True)\n",
        "plt.show()"
      ],
      "metadata": {
        "colab": {
          "base_uri": "https://localhost:8080/",
          "height": 564
        },
        "id": "kE3qx63rTbo-",
        "outputId": "5a5295cc-faa9-44cb-bae2-1b2686847725"
      },
      "execution_count": 8,
      "outputs": [
        {
          "output_type": "display_data",
          "data": {
            "text/plain": [
              "<Figure size 1000x600 with 1 Axes>"
            ],
            "image/png": "[encoded data removed]"
          },
          "metadata": {}
        }
      ]
    }
  ]
}